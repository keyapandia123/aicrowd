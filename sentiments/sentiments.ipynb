{
 "cells": [
  {
   "cell_type": "code",
   "execution_count": 1,
   "metadata": {},
   "outputs": [],
   "source": [
    "import collections\n",
    "from datetime import datetime\n",
    "import gc\n",
    "import logging\n",
    "import os\n",
    "import random\n",
    "import string\n",
    "import sys\n",
    "\n",
    "from keras.preprocessing.sequence import pad_sequences\n",
    "from keras.preprocessing.text import Tokenizer\n",
    "from matplotlib import pyplot as plt\n",
    "import numpy as np\n",
    "import nltk\n",
    "from nltk.corpus import stopwords\n",
    "from nltk.stem import WordNetLemmatizer\n",
    "import optuna\n",
    "from optuna import integration\n",
    "import pandas as pd\n",
    "import seaborn as sns\n",
    "from sklearn.feature_extraction.text import CountVectorizer, TfidfVectorizer\n",
    "from sklearn.linear_model import LogisticRegression\n",
    "from sklearn.metrics import confusion_matrix, accuracy_score\n",
    "from sklearn.model_selection import train_test_split\n",
    "from tensorflow import keras\n",
    "from tensorflow.keras import layers, models, optimizers, regularizers\n",
    "from tensorflow.keras.constraints import max_norm\n",
    "import tensorflow as tf\n",
    "from xgboost import XGBClassifier\n"
   ]
  },
  {
   "cell_type": "markdown",
   "metadata": {},
   "source": [
    "# Problem \n",
    "    \n",
    "The problem statement is described in detail [here](https://www.kaggle.com/marklvl/sentiment-labelled-sentences-data-set).  Given text sentences from Amazon, Yelp, and IMDB reviews, classify the sentiment of the review as positive or negative.  \n",
    "\n",
    "Three text files are provided.  One each for Amazon, Yelp, and IMDB.  Each file contains text sentences from user-provided reviews and a corresponding sentiment score (0 for negative and 1 for positive) for each review.  The objective is to train a model to predict the sentiment of a user-provided review given just the review text (sentence).    "
   ]
  },
  {
   "cell_type": "markdown",
   "metadata": {},
   "source": [
    "# General Approach"
   ]
  },
  {
   "cell_type": "markdown",
   "metadata": {},
   "source": [
    "Three different approaches were explored to classify the sentiment of the text sentences:\n",
    "\n",
    "**Approach 1 - Using scikit-learn for vectorizing and classifying raw text**\n",
    "\n",
    "Text Vectorization is the process of converting text into numerical representation that can be provided as input to a machine learning model.  Scikit-learn provides a few different methods to vectorize text.  This approach compares the performance of the `CountVectorizer` and the `TfidfVectorizer` provided by scikit-learn.  The `CountVectorizer` tokenizes each sentence (giving a unique integer id for each possible token, in this case a token is a word) and provides a count corresponding to the number of occurrences of each token (word) in a given sentence. The `TfidfVectorizer` obtains the counts for the tokens (words), as does `CountVectorizer`, and further normalizes the counts by weighting them with diminishing importance for tokens that occur in the majority of samples / documents. (TF-IDF stands for Term Frequency - Inverse Document Frequency.)  See [here](https://scikit-learn.org/stable/modules/feature_extraction.html) for more information. \n",
    "\n",
    "For a single fold (train-test split) of each of the three datasets (Yelp, Amazon, and IMDB), the `CountVectorizer` marginally outperformed the `TfidfVectorizer`.  \n",
    "\n",
    "Following vectorization, classification was performed.  For classification, Logistic Regression and XGBoost Classifiers were compared.  For a single fold of the Yelp dataset, Logistic Regression sufficiently outperformed XGBoostClassifier. Therefore, Logistic Regression alone was applied on the remaining two datasets (Amazon and IMDB). \n",
    "\n",
    "The results (classification accuracy) obtained using `CountVectorizer` followed by Logistic Regression on a single fold (train-test split) of the three datasets were as follows: \n",
    "\n",
    "| Dataset | Accuracy |\n",
    "|---------|----------|\n",
    "| Yelp    | 84%      |\n",
    "| Amazon  | 82%      |\n",
    "| IMDB    | 79.68%   |\n",
    "\n",
    "The results obtained using `TfidfVectorizer` followed by Logistic Regression on a single fold (train-test split) of the three datasets were as follows:\n",
    "\n",
    "| Dataset | Accuracy |\n",
    "|---------|----------|\n",
    "| Yelp    | 82%      |\n",
    "| Amazon  | 79.6%    |\n",
    "| IMDB    | 75.4%    |\n",
    "\n",
    "**Approach 2 - Using scikit-learn for vectorizing and classifying preprocessed text**\n",
    "\n",
    "In this case, instead of using the three datasets (Yelp, Amazon, IMDB) individually, an aggregate dataset was created by concatenating and shuffling reviews from all three datasets. \n",
    "\n",
    "Further, the text sentence from each review was preprocessed to:\n",
    "* Reduce the text sentence to lower case\n",
    "* Remove stop words, special characters, and numerals\n",
    "* Lemmatize remaining words\n",
    "\n",
    "For removing stopwords and lemmatizing words, the Natural Language Toolkit (NLTK) was used.  See [here](https://www.kdnuggets.com/2019/04/text-preprocessing-nlp-machine-learning.html), [here](https://www.geeksforgeeks.org/removing-stop-words-nltk-python/), and [here](https://www.geeksforgeeks.org/python-lemmatization-with-nltk/) for more information.\n",
    "\n",
    "Then, `CountVectorizer` was applied to convert the preprocessed text into numeric vectors. Logistic Regression was used for sentiment classification. Similarly, `CountVectorizer` and Logistic Regression were applied to raw text.  The classification accuracy obtained with raw text was superior to the accuracy obtained with preprocessed text.  The accuracy results on a single fold (train-test split) were as follows: \n",
    "\n",
    "| Data  | Accuracy |\n",
    "|-------|----------|\n",
    "| Raw   | 82.39%   |\n",
    "|Preprocessed | 78.31% |\n",
    "\n",
    "**Approach 3 - Using keras for vectorizing (tokenizing) and classifying raw text** \n",
    "\n",
    "In this approach, the keras Tokenizer was used for vectorization, keras pad_sequences was used for padding the vectors to a fixed length, and keras embedding-based models were used for classification. \"An embedding layer stores one vector per word. When called, it converts the sequences of word indices to sequences of vectors. These vectors are trainable. After training (on enough data), words with similar meanings often have similar vectors.\"  See [here](https://www.tensorflow.org/text/tutorials/text_classification_rnn).  Also see [word embeddings graphically](https://www.kaggle.com/matleonard/word-vectors).  \n",
    "\n",
    "Three models were built: the first model used only dense layers (no RNN), the second model used a single RNN layer (bidirection LSTM), and the third model used two bidirectional LSTM layers.  On a single fold (train-test split) of the aggregate dataset, comparable classification accuracies on the test dataset were obtained for all three models: \n",
    "\n",
    "| Model | Accuracy |\n",
    "|-------|----------|\n",
    "| No RNN| 77.58%   |\n",
    "| Single RNN| 75.84%|\n",
    "| Two RNNs | 75.60% |\n",
    "\n",
    "Additionally, pretrained embeddings from [GloVe](https://nlp.stanford.edu/projects/glove/) were used for model building. Performance (test accuracy) was worse than for any of the models above that did not use pretrained embeddings.   \n",
    "\n",
    "\n",
    "\n",
    "See [here](https://realpython.com/python-keras-text-classification/) and [here](https://www.tensorflow.org/text/tutorials/text_classification_rnn) for more information.  "
   ]
  },
  {
   "cell_type": "markdown",
   "metadata": {},
   "source": [
    "### Step 1: Load text data (sentences and sentiments)"
   ]
  },
  {
   "cell_type": "code",
   "execution_count": 2,
   "metadata": {},
   "outputs": [
    {
     "data": {
      "text/html": [
       "<div>\n",
       "<style scoped>\n",
       "    .dataframe tbody tr th:only-of-type {\n",
       "        vertical-align: middle;\n",
       "    }\n",
       "\n",
       "    .dataframe tbody tr th {\n",
       "        vertical-align: top;\n",
       "    }\n",
       "\n",
       "    .dataframe thead th {\n",
       "        text-align: right;\n",
       "    }\n",
       "</style>\n",
       "<table border=\"1\" class=\"dataframe\">\n",
       "  <thead>\n",
       "    <tr style=\"text-align: right;\">\n",
       "      <th></th>\n",
       "      <th>sentence</th>\n",
       "      <th>sentiment</th>\n",
       "    </tr>\n",
       "  </thead>\n",
       "  <tbody>\n",
       "    <tr>\n",
       "      <th>0</th>\n",
       "      <td>Good case, Excellent value.</td>\n",
       "      <td>1</td>\n",
       "    </tr>\n",
       "    <tr>\n",
       "      <th>1</th>\n",
       "      <td>Great for the jawbone.</td>\n",
       "      <td>1</td>\n",
       "    </tr>\n",
       "    <tr>\n",
       "      <th>2</th>\n",
       "      <td>Tied to charger for conversations lasting more...</td>\n",
       "      <td>0</td>\n",
       "    </tr>\n",
       "    <tr>\n",
       "      <th>3</th>\n",
       "      <td>The mic is great.</td>\n",
       "      <td>1</td>\n",
       "    </tr>\n",
       "    <tr>\n",
       "      <th>4</th>\n",
       "      <td>I have to jiggle the plug to get it to line up...</td>\n",
       "      <td>0</td>\n",
       "    </tr>\n",
       "  </tbody>\n",
       "</table>\n",
       "</div>"
      ],
      "text/plain": [
       "                                            sentence  sentiment\n",
       "0                        Good case, Excellent value.          1\n",
       "1                             Great for the jawbone.          1\n",
       "2  Tied to charger for conversations lasting more...          0\n",
       "3                                  The mic is great.          1\n",
       "4  I have to jiggle the plug to get it to line up...          0"
      ]
     },
     "execution_count": 2,
     "metadata": {},
     "output_type": "execute_result"
    }
   ],
   "source": [
    "amazon_df = pd.read_csv('amazon_cells_labelled.txt', delimiter='\\t')\n",
    "amazon_df.columns = ['sentence', 'sentiment']\n",
    "amazon_df.head()"
   ]
  },
  {
   "cell_type": "code",
   "execution_count": 3,
   "metadata": {},
   "outputs": [
    {
     "data": {
      "text/html": [
       "<div>\n",
       "<style scoped>\n",
       "    .dataframe tbody tr th:only-of-type {\n",
       "        vertical-align: middle;\n",
       "    }\n",
       "\n",
       "    .dataframe tbody tr th {\n",
       "        vertical-align: top;\n",
       "    }\n",
       "\n",
       "    .dataframe thead th {\n",
       "        text-align: right;\n",
       "    }\n",
       "</style>\n",
       "<table border=\"1\" class=\"dataframe\">\n",
       "  <thead>\n",
       "    <tr style=\"text-align: right;\">\n",
       "      <th></th>\n",
       "      <th>sentence</th>\n",
       "      <th>sentiment</th>\n",
       "    </tr>\n",
       "  </thead>\n",
       "  <tbody>\n",
       "    <tr>\n",
       "      <th>0</th>\n",
       "      <td>Not sure who was more lost - the flat characte...</td>\n",
       "      <td>0</td>\n",
       "    </tr>\n",
       "    <tr>\n",
       "      <th>1</th>\n",
       "      <td>Attempting artiness with black &amp; white and cle...</td>\n",
       "      <td>0</td>\n",
       "    </tr>\n",
       "    <tr>\n",
       "      <th>2</th>\n",
       "      <td>Very little music or anything to speak of.</td>\n",
       "      <td>0</td>\n",
       "    </tr>\n",
       "    <tr>\n",
       "      <th>3</th>\n",
       "      <td>The best scene in the movie was when Gerardo i...</td>\n",
       "      <td>1</td>\n",
       "    </tr>\n",
       "    <tr>\n",
       "      <th>4</th>\n",
       "      <td>The rest of the movie lacks art, charm, meanin...</td>\n",
       "      <td>0</td>\n",
       "    </tr>\n",
       "  </tbody>\n",
       "</table>\n",
       "</div>"
      ],
      "text/plain": [
       "                                            sentence  sentiment\n",
       "0  Not sure who was more lost - the flat characte...          0\n",
       "1  Attempting artiness with black & white and cle...          0\n",
       "2       Very little music or anything to speak of.            0\n",
       "3  The best scene in the movie was when Gerardo i...          1\n",
       "4  The rest of the movie lacks art, charm, meanin...          0"
      ]
     },
     "execution_count": 3,
     "metadata": {},
     "output_type": "execute_result"
    }
   ],
   "source": [
    "imdb_df = pd.read_csv('imdb_labelled.txt', delimiter='\\t')\n",
    "imdb_df.columns = ['sentence', 'sentiment']\n",
    "imdb_df.head()"
   ]
  },
  {
   "cell_type": "code",
   "execution_count": 4,
   "metadata": {},
   "outputs": [
    {
     "data": {
      "text/html": [
       "<div>\n",
       "<style scoped>\n",
       "    .dataframe tbody tr th:only-of-type {\n",
       "        vertical-align: middle;\n",
       "    }\n",
       "\n",
       "    .dataframe tbody tr th {\n",
       "        vertical-align: top;\n",
       "    }\n",
       "\n",
       "    .dataframe thead th {\n",
       "        text-align: right;\n",
       "    }\n",
       "</style>\n",
       "<table border=\"1\" class=\"dataframe\">\n",
       "  <thead>\n",
       "    <tr style=\"text-align: right;\">\n",
       "      <th></th>\n",
       "      <th>sentence</th>\n",
       "      <th>sentiment</th>\n",
       "    </tr>\n",
       "  </thead>\n",
       "  <tbody>\n",
       "    <tr>\n",
       "      <th>0</th>\n",
       "      <td>Crust is not good.</td>\n",
       "      <td>0</td>\n",
       "    </tr>\n",
       "    <tr>\n",
       "      <th>1</th>\n",
       "      <td>Not tasty and the texture was just nasty.</td>\n",
       "      <td>0</td>\n",
       "    </tr>\n",
       "    <tr>\n",
       "      <th>2</th>\n",
       "      <td>Stopped by during the late May bank holiday of...</td>\n",
       "      <td>1</td>\n",
       "    </tr>\n",
       "    <tr>\n",
       "      <th>3</th>\n",
       "      <td>The selection on the menu was great and so wer...</td>\n",
       "      <td>1</td>\n",
       "    </tr>\n",
       "    <tr>\n",
       "      <th>4</th>\n",
       "      <td>Now I am getting angry and I want my damn pho.</td>\n",
       "      <td>0</td>\n",
       "    </tr>\n",
       "  </tbody>\n",
       "</table>\n",
       "</div>"
      ],
      "text/plain": [
       "                                            sentence  sentiment\n",
       "0                                 Crust is not good.          0\n",
       "1          Not tasty and the texture was just nasty.          0\n",
       "2  Stopped by during the late May bank holiday of...          1\n",
       "3  The selection on the menu was great and so wer...          1\n",
       "4     Now I am getting angry and I want my damn pho.          0"
      ]
     },
     "execution_count": 4,
     "metadata": {},
     "output_type": "execute_result"
    }
   ],
   "source": [
    "yelp_df = pd.read_csv('yelp_labelled.txt', delimiter='\\t')\n",
    "yelp_df.columns = ['sentence', 'sentiment']\n",
    "yelp_df.head()"
   ]
  },
  {
   "cell_type": "markdown",
   "metadata": {},
   "source": [
    "# Using Sklearn for vectorizing and classifying raw text"
   ]
  },
  {
   "cell_type": "markdown",
   "metadata": {},
   "source": [
    "### Step 2: Train-test Split"
   ]
  },
  {
   "cell_type": "code",
   "execution_count": 44,
   "metadata": {},
   "outputs": [],
   "source": [
    "yelp_sentences = yelp_df['sentence'].values\n",
    "yelp_labels = yelp_df['sentiment'].values"
   ]
  },
  {
   "cell_type": "code",
   "execution_count": 45,
   "metadata": {},
   "outputs": [],
   "source": [
    "sentences_train, sentences_test, y_train, y_test = train_test_split(yelp_sentences, yelp_labels, test_size=0.05)"
   ]
  },
  {
   "cell_type": "markdown",
   "metadata": {},
   "source": [
    "### Step 3a: Train `CountVectorizer` on training data and transform test data"
   ]
  },
  {
   "cell_type": "code",
   "execution_count": 46,
   "metadata": {},
   "outputs": [
    {
     "data": {
      "text/plain": [
       "CountVectorizer()"
      ]
     },
     "execution_count": 46,
     "metadata": {},
     "output_type": "execute_result"
    }
   ],
   "source": [
    "vectorizer1 = CountVectorizer()\n",
    "vectorizer1.fit(sentences_train)"
   ]
  },
  {
   "cell_type": "code",
   "execution_count": 47,
   "metadata": {},
   "outputs": [],
   "source": [
    "X_train1 = vectorizer1.transform(sentences_train)\n",
    "X_test1 = vectorizer1.transform(sentences_test)"
   ]
  },
  {
   "cell_type": "code",
   "execution_count": 48,
   "metadata": {},
   "outputs": [
    {
     "name": "stdout",
     "output_type": "stream",
     "text": [
      "Original:  It was so bad, I had lost the heart to finish it.\n",
      "Vectorized: \n",
      "  (0, 127)\t1\n",
      "  (0, 651)\t1\n",
      "  (0, 780)\t1\n",
      "  (0, 814)\t1\n",
      "  (0, 916)\t2\n",
      "  (0, 1007)\t1\n",
      "  (0, 1579)\t1\n",
      "  (0, 1726)\t1\n",
      "  (0, 1758)\t1\n",
      "  (0, 1879)\t1\n",
      "Decoded:  [array(['bad', 'finish', 'had', 'heart', 'it', 'lost', 'so', 'the', 'to',\n",
      "       'was'], dtype='<U17')]\n"
     ]
    }
   ],
   "source": [
    "print(\"Original: \", sentences_train[0])\n",
    "print(\"Vectorized: \") \n",
    "print(X_train1[0])\n",
    "print(\"Decoded: \", vectorizer1.inverse_transform(X_train1[0]))"
   ]
  },
  {
   "cell_type": "code",
   "execution_count": 49,
   "metadata": {},
   "outputs": [
    {
     "name": "stdout",
     "output_type": "stream",
     "text": [
      "Original:  We waited for thirty minutes to be seated (although there were 8 vacant tables and we were the only folks waiting).\n",
      "Vectorized: \n",
      "  (0, 53)\t1\n",
      "  (0, 62)\t1\n",
      "  (0, 151)\t1\n",
      "  (0, 672)\t1\n",
      "  (0, 677)\t1\n",
      "  (0, 1091)\t1\n",
      "  (0, 1188)\t1\n",
      "  (0, 1502)\t1\n",
      "  (0, 1691)\t1\n",
      "  (0, 1726)\t1\n",
      "  (0, 1732)\t1\n",
      "  (0, 1758)\t1\n",
      "  (0, 1866)\t1\n",
      "  (0, 1868)\t1\n",
      "  (0, 1893)\t2\n",
      "  (0, 1904)\t2\n",
      "Decoded:  [array(['although', 'and', 'be', 'folks', 'for', 'minutes', 'only',\n",
      "       'seated', 'tables', 'the', 'there', 'to', 'waited', 'waiting',\n",
      "       'we', 'were'], dtype='<U17')]\n"
     ]
    }
   ],
   "source": [
    "print(\"Original: \", sentences_test[1])\n",
    "print(\"Vectorized: \") \n",
    "print(X_test1[1])\n",
    "print(\"Decoded: \", vectorizer1.inverse_transform(X_test1[1]))"
   ]
  },
  {
   "cell_type": "markdown",
   "metadata": {},
   "source": [
    "### Step 3b: Train `TfidfVectorizer` on training data and transform test data "
   ]
  },
  {
   "cell_type": "code",
   "execution_count": 50,
   "metadata": {},
   "outputs": [
    {
     "data": {
      "text/plain": [
       "TfidfVectorizer()"
      ]
     },
     "execution_count": 50,
     "metadata": {},
     "output_type": "execute_result"
    }
   ],
   "source": [
    "vectorizer2 = TfidfVectorizer()\n",
    "vectorizer2.fit(sentences_train)"
   ]
  },
  {
   "cell_type": "code",
   "execution_count": 51,
   "metadata": {},
   "outputs": [],
   "source": [
    "X_train2 = vectorizer2.transform(sentences_train)\n",
    "X_test2 = vectorizer2.transform(sentences_test)"
   ]
  },
  {
   "cell_type": "code",
   "execution_count": 52,
   "metadata": {},
   "outputs": [
    {
     "name": "stdout",
     "output_type": "stream",
     "text": [
      "Original:  It was so bad, I had lost the heart to finish it.\n",
      "Vectorized: \n",
      "  (0, 1879)\t0.1523978727339433\n",
      "  (0, 1758)\t0.17642707875274802\n",
      "  (0, 1726)\t0.11685053546599122\n",
      "  (0, 1579)\t0.24031695820714774\n",
      "  (0, 1007)\t0.4410627183807517\n",
      "  (0, 916)\t0.39632310552901345\n",
      "  (0, 814)\t0.40772280281965506\n",
      "  (0, 780)\t0.23833902729253365\n",
      "  (0, 651)\t0.4410627183807517\n",
      "  (0, 127)\t0.324120445654777\n",
      "Decoded:  [array(['was', 'to', 'the', 'so', 'lost', 'it', 'heart', 'had', 'finish',\n",
      "       'bad'], dtype='<U17')]\n"
     ]
    }
   ],
   "source": [
    "print(\"Original: \", sentences_train[0])\n",
    "print(\"Vectorized: \") \n",
    "print(X_train2[0])\n",
    "print(\"Decoded: \", vectorizer2.inverse_transform(X_train2[0]))"
   ]
  },
  {
   "cell_type": "code",
   "execution_count": 53,
   "metadata": {},
   "outputs": [
    {
     "name": "stdout",
     "output_type": "stream",
     "text": [
      "Original:  We waited for thirty minutes to be seated (although there were 8 vacant tables and we were the only folks waiting).\n",
      "Vectorized: \n",
      "  (0, 1904)\t0.36082781294395505\n",
      "  (0, 1893)\t0.33428678690032615\n",
      "  (0, 1868)\t0.29280652205499874\n",
      "  (0, 1866)\t0.27703561030004353\n",
      "  (0, 1758)\t0.12670127588808283\n",
      "  (0, 1732)\t0.2029577498015095\n",
      "  (0, 1726)\t0.08391632416300017\n",
      "  (0, 1691)\t0.29280652205499874\n",
      "  (0, 1502)\t0.29280652205499874\n",
      "  (0, 1188)\t0.2155316480288988\n",
      "  (0, 1091)\t0.23828806025453533\n",
      "  (0, 677)\t0.1547966589691458\n",
      "  (0, 672)\t0.3032655640603737\n",
      "  (0, 151)\t0.17556081390475206\n",
      "  (0, 62)\t0.09743663861857571\n",
      "  (0, 53)\t0.316749614404852\n",
      "Decoded:  [array(['were', 'we', 'waiting', 'waited', 'to', 'there', 'the', 'tables',\n",
      "       'seated', 'only', 'minutes', 'for', 'folks', 'be', 'and',\n",
      "       'although'], dtype='<U17')]\n"
     ]
    }
   ],
   "source": [
    "print(\"Original: \", sentences_test[1])\n",
    "print(\"Vectorized: \") \n",
    "print(X_test2[1])\n",
    "print(\"Decoded: \", vectorizer2.inverse_transform(X_test2[1]))"
   ]
  },
  {
   "cell_type": "markdown",
   "metadata": {},
   "source": [
    "### Step 4a:  Apply Logistic Regression Classifier"
   ]
  },
  {
   "cell_type": "code",
   "execution_count": 54,
   "metadata": {},
   "outputs": [
    {
     "data": {
      "text/plain": [
       "LogisticRegression()"
      ]
     },
     "execution_count": 54,
     "metadata": {},
     "output_type": "execute_result"
    }
   ],
   "source": [
    "clf_lr1 = LogisticRegression()\n",
    "clf_lr1.fit(X_train1, y_train)"
   ]
  },
  {
   "cell_type": "code",
   "execution_count": 55,
   "metadata": {},
   "outputs": [],
   "source": [
    "y_pred1 = clf_lr1.predict(X_test1)"
   ]
  },
  {
   "cell_type": "code",
   "execution_count": 56,
   "metadata": {},
   "outputs": [
    {
     "name": "stdout",
     "output_type": "stream",
     "text": [
      "Accuracy using CountVectorizer is:  0.84\n"
     ]
    }
   ],
   "source": [
    "accuracy = accuracy_score(y_test, y_pred1)\n",
    "print(\"Accuracy using CountVectorizer is: \", accuracy)"
   ]
  },
  {
   "cell_type": "code",
   "execution_count": 57,
   "metadata": {},
   "outputs": [
    {
     "data": {
      "text/plain": [
       "LogisticRegression()"
      ]
     },
     "execution_count": 57,
     "metadata": {},
     "output_type": "execute_result"
    }
   ],
   "source": [
    "clf_lr2 = LogisticRegression()\n",
    "clf_lr2.fit(X_train2, y_train)"
   ]
  },
  {
   "cell_type": "code",
   "execution_count": 58,
   "metadata": {},
   "outputs": [],
   "source": [
    "y_pred2 = clf_lr2.predict(X_test2)"
   ]
  },
  {
   "cell_type": "code",
   "execution_count": 59,
   "metadata": {},
   "outputs": [
    {
     "name": "stdout",
     "output_type": "stream",
     "text": [
      "Accuracy using TfidfVectorizer is:  0.82\n"
     ]
    }
   ],
   "source": [
    "accuracy = accuracy_score(y_test, y_pred2)\n",
    "print(\"Accuracy using TfidfVectorizer is: \", accuracy)"
   ]
  },
  {
   "cell_type": "markdown",
   "metadata": {},
   "source": [
    "### Step 4b: Apply XGBoost Classifier"
   ]
  },
  {
   "cell_type": "code",
   "execution_count": 24,
   "metadata": {},
   "outputs": [
    {
     "name": "stdout",
     "output_type": "stream",
     "text": [
      "[22:28:33] WARNING: ../src/learner.cc:1061: Starting in XGBoost 1.3.0, the default evaluation metric used with the objective 'binary:logistic' was changed from 'error' to 'logloss'. Explicitly set eval_metric if you'd like to restore the old behavior.\n"
     ]
    },
    {
     "data": {
      "text/plain": [
       "XGBClassifier(base_score=0.5, booster='gbtree', colsample_bylevel=1,\n",
       "              colsample_bynode=1, colsample_bytree=1, gamma=0, gpu_id=-1,\n",
       "              importance_type='gain', interaction_constraints='',\n",
       "              learning_rate=0.1, max_delta_step=0, max_depth=8,\n",
       "              min_child_weight=1, missing=nan, monotone_constraints='()',\n",
       "              n_estimators=1000, n_jobs=16, num_parallel_tree=1, random_state=0,\n",
       "              reg_alpha=0, reg_lambda=1, scale_pos_weight=1, subsample=1,\n",
       "              tree_method='exact', use_label_encoder=False,\n",
       "              validate_parameters=1, verbosity=None)"
      ]
     },
     "execution_count": 24,
     "metadata": {},
     "output_type": "execute_result"
    }
   ],
   "source": [
    "clf_xgb1 = XGBClassifier(booster='gbtree', max_depth=8, learning_rate=0.1, n_estimators=1000, use_label_encoder=False)\n",
    "clf_xgb1.fit(X_train1, y_train)"
   ]
  },
  {
   "cell_type": "code",
   "execution_count": 25,
   "metadata": {},
   "outputs": [],
   "source": [
    "y_pred1 = clf_xgb1.predict(X_test1)"
   ]
  },
  {
   "cell_type": "code",
   "execution_count": 26,
   "metadata": {},
   "outputs": [
    {
     "name": "stdout",
     "output_type": "stream",
     "text": [
      "Accuracy using CountVectorizer is:  0.736\n"
     ]
    }
   ],
   "source": [
    "accuracy = accuracy_score(y_test, y_pred1)\n",
    "print(\"Accuracy using CountVectorizer is: \", accuracy)"
   ]
  },
  {
   "cell_type": "code",
   "execution_count": 27,
   "metadata": {},
   "outputs": [
    {
     "name": "stdout",
     "output_type": "stream",
     "text": [
      "[22:28:37] WARNING: ../src/learner.cc:1061: Starting in XGBoost 1.3.0, the default evaluation metric used with the objective 'binary:logistic' was changed from 'error' to 'logloss'. Explicitly set eval_metric if you'd like to restore the old behavior.\n"
     ]
    },
    {
     "data": {
      "text/plain": [
       "XGBClassifier(base_score=0.5, booster='gbtree', colsample_bylevel=1,\n",
       "              colsample_bynode=1, colsample_bytree=1, gamma=0, gpu_id=-1,\n",
       "              importance_type='gain', interaction_constraints='',\n",
       "              learning_rate=0.1, max_delta_step=0, max_depth=8,\n",
       "              min_child_weight=1, missing=nan, monotone_constraints='()',\n",
       "              n_estimators=1000, n_jobs=16, num_parallel_tree=1, random_state=0,\n",
       "              reg_alpha=0, reg_lambda=1, scale_pos_weight=1, subsample=1,\n",
       "              tree_method='exact', use_label_encoder=False,\n",
       "              validate_parameters=1, verbosity=None)"
      ]
     },
     "execution_count": 27,
     "metadata": {},
     "output_type": "execute_result"
    }
   ],
   "source": [
    "clf_xgb2 = XGBClassifier(booster='gbtree', max_depth=8, learning_rate=0.1, n_estimators=1000, use_label_encoder=False)\n",
    "clf_xgb2.fit(X_train2, y_train)"
   ]
  },
  {
   "cell_type": "code",
   "execution_count": 28,
   "metadata": {},
   "outputs": [],
   "source": [
    "y_pred2 = clf_xgb2.predict(X_test2)"
   ]
  },
  {
   "cell_type": "code",
   "execution_count": 29,
   "metadata": {},
   "outputs": [
    {
     "name": "stdout",
     "output_type": "stream",
     "text": [
      "Accuracy using TfidfVectorizer is:  0.72\n"
     ]
    }
   ],
   "source": [
    "accuracy = accuracy_score(y_test, y_pred2)\n",
    "print(\"Accuracy using TfidfVectorizer is: \", accuracy)"
   ]
  },
  {
   "cell_type": "markdown",
   "metadata": {},
   "source": [
    "### Step 5a: Apply `CountVectorizer` and Logistic Regression on Amazon and IMDB datasets"
   ]
  },
  {
   "cell_type": "code",
   "execution_count": 8,
   "metadata": {},
   "outputs": [],
   "source": [
    "def apply_vectorizer_and_clf(df, vectorizer, clf):\n",
    "    df_sentences = df['sentence'].values\n",
    "    df_labels = df['sentiment'].values\n",
    "    \n",
    "    sentences_train, sentences_test, y_train, y_test = train_test_split(df_sentences, df_labels, test_size=0.25)\n",
    "\n",
    "    vec = vectorizer\n",
    "    vec.fit(sentences_train)\n",
    "    \n",
    "    X_train = vec.transform(sentences_train)\n",
    "    X_test = vec.transform(sentences_test)\n",
    "    \n",
    "    clf = clf\n",
    "    clf.fit(X_train, y_train)\n",
    "    y_pred = clf.predict(X_test)\n",
    "    \n",
    "    accuracy = accuracy_score(y_test, y_pred)\n",
    "    \n",
    "    return accuracy\n",
    "    "
   ]
  },
  {
   "cell_type": "code",
   "execution_count": 76,
   "metadata": {},
   "outputs": [
    {
     "name": "stdout",
     "output_type": "stream",
     "text": [
      "Accuracy on the Amazon Dataset using CountVectorizer:  0.82\n"
     ]
    }
   ],
   "source": [
    "accuracy = apply_vectorizer_and_clf(amazon_df, CountVectorizer(), LogisticRegression())\n",
    "print(\"Accuracy on the Amazon Dataset using CountVectorizer: \", accuracy)"
   ]
  },
  {
   "cell_type": "code",
   "execution_count": 77,
   "metadata": {},
   "outputs": [
    {
     "name": "stdout",
     "output_type": "stream",
     "text": [
      "Accuracy on the IMDB Dataset using CountVectorizer:  0.7967914438502673\n"
     ]
    }
   ],
   "source": [
    "accuracy = apply_vectorizer_and_clf(imdb_df, CountVectorizer(), LogisticRegression())\n",
    "print(\"Accuracy on the IMDB Dataset using CountVectorizer: \", accuracy)"
   ]
  },
  {
   "cell_type": "markdown",
   "metadata": {},
   "source": [
    "### Step 5b: Apply `TfidfVectorizer` and Logistic Regression on Amazon and IMDB datasets"
   ]
  },
  {
   "cell_type": "code",
   "execution_count": 78,
   "metadata": {},
   "outputs": [
    {
     "name": "stdout",
     "output_type": "stream",
     "text": [
      "Accuracy on the Amazon Dataset using TfidfVectorizer:  0.796\n"
     ]
    }
   ],
   "source": [
    "accuracy = apply_vectorizer_and_clf(amazon_df, TfidfVectorizer(), LogisticRegression())\n",
    "print(\"Accuracy on the Amazon Dataset using TfidfVectorizer: \", accuracy)"
   ]
  },
  {
   "cell_type": "code",
   "execution_count": 79,
   "metadata": {},
   "outputs": [
    {
     "name": "stdout",
     "output_type": "stream",
     "text": [
      "Accuracy on the IMDB Dataset using TfidfVectorizer:  0.7540106951871658\n"
     ]
    }
   ],
   "source": [
    "accuracy = apply_vectorizer_and_clf(imdb_df, TfidfVectorizer(), LogisticRegression())\n",
    "print(\"Accuracy on the IMDB Dataset using TfidfVectorizer: \", accuracy)"
   ]
  },
  {
   "cell_type": "markdown",
   "metadata": {},
   "source": [
    "# Using Sklearn for vectorizing and classification of preprocessed text"
   ]
  },
  {
   "cell_type": "markdown",
   "metadata": {},
   "source": [
    "### Step 2: Preprocess the text (sentences)\n",
    "\n",
    "* Reduce sentences to lower case\n",
    "* Remove stop words, special characters, and numerals\n",
    "* Lemmatize remaining words"
   ]
  },
  {
   "cell_type": "code",
   "execution_count": 5,
   "metadata": {},
   "outputs": [],
   "source": [
    "def preprocess(df):\n",
    "    nltk.download('stopwords')\n",
    "    nltk.download('wordnet')\n",
    "    stop_words = set(stopwords.words('english'))\n",
    "    lemmatizer = WordNetLemmatizer()\n",
    "    df_preprocessed = df.copy()\n",
    "    df_preprocessed['original'] = df_preprocessed['sentence']\n",
    "    \n",
    "    for idx in df.index:\n",
    "        text = df.loc[idx, 'sentence']\n",
    "        \n",
    "        text = text.lower()\n",
    "        \n",
    "        text_list = text.split()\n",
    "        text = ' '.join([lemmatizer.lemmatize(word.strip(string.punctuation)) for word in text_list if word not in stop_words and not word.isnumeric()])\n",
    "        \n",
    "        df_preprocessed.loc[idx, 'sentence'] = text\n",
    "        \n",
    "    return df_preprocessed                     "
   ]
  },
  {
   "cell_type": "code",
   "execution_count": 6,
   "metadata": {},
   "outputs": [
    {
     "name": "stderr",
     "output_type": "stream",
     "text": [
      "[nltk_data] Downloading package stopwords to /root/nltk_data...\n",
      "[nltk_data]   Unzipping corpora/stopwords.zip.\n",
      "[nltk_data] Downloading package wordnet to /root/nltk_data...\n",
      "[nltk_data]   Unzipping corpora/wordnet.zip.\n"
     ]
    },
    {
     "data": {
      "text/html": [
       "<div>\n",
       "<style scoped>\n",
       "    .dataframe tbody tr th:only-of-type {\n",
       "        vertical-align: middle;\n",
       "    }\n",
       "\n",
       "    .dataframe tbody tr th {\n",
       "        vertical-align: top;\n",
       "    }\n",
       "\n",
       "    .dataframe thead th {\n",
       "        text-align: right;\n",
       "    }\n",
       "</style>\n",
       "<table border=\"1\" class=\"dataframe\">\n",
       "  <thead>\n",
       "    <tr style=\"text-align: right;\">\n",
       "      <th></th>\n",
       "      <th>sentence</th>\n",
       "      <th>sentiment</th>\n",
       "      <th>original</th>\n",
       "    </tr>\n",
       "  </thead>\n",
       "  <tbody>\n",
       "    <tr>\n",
       "      <th>666</th>\n",
       "      <td>look good picture case huge disappointment</td>\n",
       "      <td>0</td>\n",
       "      <td>Looks good in the picture, but this case was a...</td>\n",
       "    </tr>\n",
       "    <tr>\n",
       "      <th>1686</th>\n",
       "      <td>story also funny poignant time</td>\n",
       "      <td>1</td>\n",
       "      <td>The story is also both funny and poignant at t...</td>\n",
       "    </tr>\n",
       "    <tr>\n",
       "      <th>750</th>\n",
       "      <td>disappointing</td>\n",
       "      <td>0</td>\n",
       "      <td>disappointing.</td>\n",
       "    </tr>\n",
       "    <tr>\n",
       "      <th>1301</th>\n",
       "      <td>left theater lilt step joy heart hope human race</td>\n",
       "      <td>1</td>\n",
       "      <td>I left the theater with a lilt in my step, joy...</td>\n",
       "    </tr>\n",
       "    <tr>\n",
       "      <th>1996</th>\n",
       "      <td>nothing privileged working/eating there</td>\n",
       "      <td>0</td>\n",
       "      <td>There is nothing privileged about working/eati...</td>\n",
       "    </tr>\n",
       "    <tr>\n",
       "      <th>1940</th>\n",
       "      <td>best place go tasty bowl pho</td>\n",
       "      <td>1</td>\n",
       "      <td>The best place to go for a tasty bowl of Pho!</td>\n",
       "    </tr>\n",
       "    <tr>\n",
       "      <th>914</th>\n",
       "      <td>take battery phone put back together restart it</td>\n",
       "      <td>0</td>\n",
       "      <td>So I had to take the battery out of the phone ...</td>\n",
       "    </tr>\n",
       "    <tr>\n",
       "      <th>383</th>\n",
       "      <td>magical help</td>\n",
       "      <td>1</td>\n",
       "      <td>Magical Help.</td>\n",
       "    </tr>\n",
       "    <tr>\n",
       "      <th>822</th>\n",
       "      <td>keep getting better better this third one i've...</td>\n",
       "      <td>1</td>\n",
       "      <td>They keep getting better and better (this is m...</td>\n",
       "    </tr>\n",
       "    <tr>\n",
       "      <th>535</th>\n",
       "      <td>bluetooth range good  day ago left phone trunk...</td>\n",
       "      <td>1</td>\n",
       "      <td>Bluetooth range is good - a few days ago I lef...</td>\n",
       "    </tr>\n",
       "  </tbody>\n",
       "</table>\n",
       "</div>"
      ],
      "text/plain": [
       "                                               sentence  sentiment  \\\n",
       "666          look good picture case huge disappointment          0   \n",
       "1686                     story also funny poignant time          1   \n",
       "750                                       disappointing          0   \n",
       "1301   left theater lilt step joy heart hope human race          1   \n",
       "1996            nothing privileged working/eating there          0   \n",
       "1940                       best place go tasty bowl pho          1   \n",
       "914     take battery phone put back together restart it          0   \n",
       "383                                        magical help          1   \n",
       "822   keep getting better better this third one i've...          1   \n",
       "535   bluetooth range good  day ago left phone trunk...          1   \n",
       "\n",
       "                                               original  \n",
       "666   Looks good in the picture, but this case was a...  \n",
       "1686  The story is also both funny and poignant at t...  \n",
       "750                                      disappointing.  \n",
       "1301  I left the theater with a lilt in my step, joy...  \n",
       "1996  There is nothing privileged about working/eati...  \n",
       "1940      The best place to go for a tasty bowl of Pho!  \n",
       "914   So I had to take the battery out of the phone ...  \n",
       "383                                       Magical Help.  \n",
       "822   They keep getting better and better (this is m...  \n",
       "535   Bluetooth range is good - a few days ago I lef...  "
      ]
     },
     "execution_count": 6,
     "metadata": {},
     "output_type": "execute_result"
    }
   ],
   "source": [
    "df_all = pd.concat([amazon_df, imdb_df, yelp_df], ignore_index=True)\n",
    "df_all_preprocessed = preprocess(df_all)\n",
    "df_all_preprocessed = df_all_preprocessed.sample(frac=1.0)\n",
    "\n",
    "df_all_preprocessed.head(10)"
   ]
  },
  {
   "cell_type": "markdown",
   "metadata": {},
   "source": [
    "### Step 3: Apply `CountVectorizer` and Logistic Regression on aggregate raw and preprocessed datasets"
   ]
  },
  {
   "cell_type": "code",
   "execution_count": 9,
   "metadata": {},
   "outputs": [
    {
     "name": "stdout",
     "output_type": "stream",
     "text": [
      "Accuracy on the Raw Aggregate Dataset using CountVectorizer:  0.8238719068413392\n"
     ]
    }
   ],
   "source": [
    "accuracy = apply_vectorizer_and_clf(df_all, CountVectorizer(), LogisticRegression())\n",
    "print(\"Accuracy on the Raw Aggregate Dataset using CountVectorizer: \", accuracy)"
   ]
  },
  {
   "cell_type": "code",
   "execution_count": 10,
   "metadata": {},
   "outputs": [
    {
     "name": "stdout",
     "output_type": "stream",
     "text": [
      "Accuracy on the Preprocessed Aggregate Dataset using CountVectorizer:  0.7831149927219796\n"
     ]
    }
   ],
   "source": [
    "accuracy = apply_vectorizer_and_clf(df_all_preprocessed, CountVectorizer(), LogisticRegression())\n",
    "print(\"Accuracy on the Preprocessed Aggregate Dataset using CountVectorizer: \", accuracy)"
   ]
  },
  {
   "cell_type": "markdown",
   "metadata": {},
   "source": [
    "### Step 4: Visualize the output "
   ]
  },
  {
   "cell_type": "code",
   "execution_count": 170,
   "metadata": {},
   "outputs": [],
   "source": [
    "def visualize(df, vectorizer, clf):\n",
    "    df_sentences = df['sentence'].values\n",
    "    df_labels = df['sentiment'].values\n",
    "    \n",
    "    sentences_train, sentences_test, y_train, y_test = train_test_split(df_sentences, df_labels, test_size=0.25)\n",
    "\n",
    "    vec = vectorizer\n",
    "    vec.fit(sentences_train)\n",
    "    \n",
    "    X_train = vec.transform(sentences_train)\n",
    "    X_test = vec.transform(sentences_test)\n",
    "    \n",
    "    clf = clf\n",
    "    clf.fit(X_train, y_train)\n",
    "    y_pred = clf.predict(X_test)\n",
    "    \n",
    "    df_test_visualize = pd.DataFrame(columns=['sentence original', 'sentence decoded', 'true label', 'pred label'])\n",
    " \n",
    "    for idx in range(len(y_test)):\n",
    "        decoded = ' '.join(vec.inverse_transform(X_test[idx])[0])\n",
    "        df_test_visualize.loc[idx] = [sentences_test[idx], decoded, y_test[idx], y_pred[idx]]\n",
    "    \n",
    "    print(\"Original sentence : \", sentences_test[0])\n",
    "    print(\"Decoded sentence: \", ' '.join(vec.inverse_transform(X_test[0])[0]))\n",
    "    print(\"True label: \", y_test[0])\n",
    "    print(\"Pred label: \", y_pred[0])\n",
    "    \n",
    "    return df_test_visualize"
   ]
  },
  {
   "cell_type": "code",
   "execution_count": 173,
   "metadata": {},
   "outputs": [
    {
     "name": "stdout",
     "output_type": "stream",
     "text": [
      "Original sentence :  Best breakfast buffet!!!\n",
      "Decoded sentence:  best breakfast buffet\n",
      "True label:  1\n",
      "Pred label:  1\n"
     ]
    },
    {
     "data": {
      "text/html": [
       "<div>\n",
       "<style scoped>\n",
       "    .dataframe tbody tr th:only-of-type {\n",
       "        vertical-align: middle;\n",
       "    }\n",
       "\n",
       "    .dataframe tbody tr th {\n",
       "        vertical-align: top;\n",
       "    }\n",
       "\n",
       "    .dataframe thead th {\n",
       "        text-align: right;\n",
       "    }\n",
       "</style>\n",
       "<table border=\"1\" class=\"dataframe\">\n",
       "  <thead>\n",
       "    <tr style=\"text-align: right;\">\n",
       "      <th></th>\n",
       "      <th>sentence original</th>\n",
       "      <th>sentence decoded</th>\n",
       "      <th>true label</th>\n",
       "      <th>pred label</th>\n",
       "    </tr>\n",
       "  </thead>\n",
       "  <tbody>\n",
       "    <tr>\n",
       "      <th>0</th>\n",
       "      <td>Best breakfast buffet!!!</td>\n",
       "      <td>best breakfast buffet</td>\n",
       "      <td>1</td>\n",
       "      <td>1</td>\n",
       "    </tr>\n",
       "    <tr>\n",
       "      <th>1</th>\n",
       "      <td>It is cheap, and it feel and look just as cheap.</td>\n",
       "      <td>and as cheap feel is it just look</td>\n",
       "      <td>0</td>\n",
       "      <td>0</td>\n",
       "    </tr>\n",
       "    <tr>\n",
       "      <th>2</th>\n",
       "      <td>I will come back here every time I'm in Vegas.</td>\n",
       "      <td>back come every here in time vegas will</td>\n",
       "      <td>1</td>\n",
       "      <td>1</td>\n",
       "    </tr>\n",
       "    <tr>\n",
       "      <th>3</th>\n",
       "      <td>The commercials are the most misleading.</td>\n",
       "      <td>are most the</td>\n",
       "      <td>0</td>\n",
       "      <td>1</td>\n",
       "    </tr>\n",
       "    <tr>\n",
       "      <th>4</th>\n",
       "      <td>If someone orders two tacos don't' you think i...</td>\n",
       "      <td>ask be customer don if is it may of or orders ...</td>\n",
       "      <td>0</td>\n",
       "      <td>0</td>\n",
       "    </tr>\n",
       "    <tr>\n",
       "      <th>5</th>\n",
       "      <td>The only suspense I was feeling was the frustr...</td>\n",
       "      <td>at feeling frustration how just only suspense ...</td>\n",
       "      <td>0</td>\n",
       "      <td>0</td>\n",
       "    </tr>\n",
       "    <tr>\n",
       "      <th>6</th>\n",
       "      <td>Our server was very nice, and even though he l...</td>\n",
       "      <td>all and end even friendly he little looked nee...</td>\n",
       "      <td>1</td>\n",
       "      <td>1</td>\n",
       "    </tr>\n",
       "    <tr>\n",
       "      <th>7</th>\n",
       "      <td>the charger worked for about a week and then c...</td>\n",
       "      <td>about and charger charging completely for my p...</td>\n",
       "      <td>0</td>\n",
       "      <td>0</td>\n",
       "    </tr>\n",
       "    <tr>\n",
       "      <th>8</th>\n",
       "      <td>The directing is sloppy at best.</td>\n",
       "      <td>at best directing is the</td>\n",
       "      <td>0</td>\n",
       "      <td>0</td>\n",
       "    </tr>\n",
       "    <tr>\n",
       "      <th>9</th>\n",
       "      <td>One of the worst shows of all time.</td>\n",
       "      <td>all of one shows the time worst</td>\n",
       "      <td>0</td>\n",
       "      <td>0</td>\n",
       "    </tr>\n",
       "    <tr>\n",
       "      <th>10</th>\n",
       "      <td>Exceptionally bad!</td>\n",
       "      <td>bad</td>\n",
       "      <td>0</td>\n",
       "      <td>0</td>\n",
       "    </tr>\n",
       "    <tr>\n",
       "      <th>11</th>\n",
       "      <td>I'll be drivng along, and my headset starts ri...</td>\n",
       "      <td>along and be for headset ll my no reason starts</td>\n",
       "      <td>0</td>\n",
       "      <td>0</td>\n",
       "    </tr>\n",
       "    <tr>\n",
       "      <th>12</th>\n",
       "      <td>They have a really nice atmosphere.</td>\n",
       "      <td>atmosphere have nice really they</td>\n",
       "      <td>1</td>\n",
       "      <td>1</td>\n",
       "    </tr>\n",
       "    <tr>\n",
       "      <th>13</th>\n",
       "      <td>I checked everywhere and there is no feature f...</td>\n",
       "      <td>and checked disappointing everywhere feature f...</td>\n",
       "      <td>0</td>\n",
       "      <td>0</td>\n",
       "    </tr>\n",
       "    <tr>\n",
       "      <th>14</th>\n",
       "      <td>The delivery was on time.</td>\n",
       "      <td>delivery on the time was</td>\n",
       "      <td>1</td>\n",
       "      <td>0</td>\n",
       "    </tr>\n",
       "    <tr>\n",
       "      <th>15</th>\n",
       "      <td>The script looks as if only a rough draft was ...</td>\n",
       "      <td>and as before began if looks only script the w...</td>\n",
       "      <td>0</td>\n",
       "      <td>0</td>\n",
       "    </tr>\n",
       "    <tr>\n",
       "      <th>16</th>\n",
       "      <td>Otherwise, don't even waste your time on this.</td>\n",
       "      <td>don even on otherwise this time waste your</td>\n",
       "      <td>0</td>\n",
       "      <td>0</td>\n",
       "    </tr>\n",
       "    <tr>\n",
       "      <th>17</th>\n",
       "      <td>I've owned this phone for 7 months now and can...</td>\n",
       "      <td>and best can for had it mobile months now owne...</td>\n",
       "      <td>1</td>\n",
       "      <td>1</td>\n",
       "    </tr>\n",
       "    <tr>\n",
       "      <th>18</th>\n",
       "      <td>Battery life is real good.</td>\n",
       "      <td>battery good is life real</td>\n",
       "      <td>1</td>\n",
       "      <td>1</td>\n",
       "    </tr>\n",
       "    <tr>\n",
       "      <th>19</th>\n",
       "      <td>I hate those things as much as cheap quality b...</td>\n",
       "      <td>as black cheap hate much quality things those</td>\n",
       "      <td>0</td>\n",
       "      <td>0</td>\n",
       "    </tr>\n",
       "  </tbody>\n",
       "</table>\n",
       "</div>"
      ],
      "text/plain": [
       "                                    sentence original  \\\n",
       "0                            Best breakfast buffet!!!   \n",
       "1    It is cheap, and it feel and look just as cheap.   \n",
       "2      I will come back here every time I'm in Vegas.   \n",
       "3            The commercials are the most misleading.   \n",
       "4   If someone orders two tacos don't' you think i...   \n",
       "5   The only suspense I was feeling was the frustr...   \n",
       "6   Our server was very nice, and even though he l...   \n",
       "7   the charger worked for about a week and then c...   \n",
       "8                  The directing is sloppy at best.     \n",
       "9               One of the worst shows of all time.     \n",
       "10                               Exceptionally bad!     \n",
       "11  I'll be drivng along, and my headset starts ri...   \n",
       "12                They have a really nice atmosphere.   \n",
       "13  I checked everywhere and there is no feature f...   \n",
       "14                          The delivery was on time.   \n",
       "15  The script looks as if only a rough draft was ...   \n",
       "16   Otherwise, don't even waste your time on this.     \n",
       "17  I've owned this phone for 7 months now and can...   \n",
       "18                         Battery life is real good.   \n",
       "19  I hate those things as much as cheap quality b...   \n",
       "\n",
       "                                     sentence decoded true label pred label  \n",
       "0                               best breakfast buffet          1          1  \n",
       "1                   and as cheap feel is it just look          0          0  \n",
       "2             back come every here in time vegas will          1          1  \n",
       "3                                        are most the          0          1  \n",
       "4   ask be customer don if is it may of or orders ...          0          0  \n",
       "5   at feeling frustration how just only suspense ...          0          0  \n",
       "6   all and end even friendly he little looked nee...          1          1  \n",
       "7   about and charger charging completely for my p...          0          0  \n",
       "8                            at best directing is the          0          0  \n",
       "9                     all of one shows the time worst          0          0  \n",
       "10                                                bad          0          0  \n",
       "11    along and be for headset ll my no reason starts          0          0  \n",
       "12                   atmosphere have nice really they          1          1  \n",
       "13  and checked disappointing everywhere feature f...          0          0  \n",
       "14                           delivery on the time was          1          0  \n",
       "15  and as before began if looks only script the w...          0          0  \n",
       "16         don even on otherwise this time waste your          0          0  \n",
       "17  and best can for had it mobile months now owne...          1          1  \n",
       "18                          battery good is life real          1          1  \n",
       "19      as black cheap hate much quality things those          0          0  "
      ]
     },
     "execution_count": 173,
     "metadata": {},
     "output_type": "execute_result"
    }
   ],
   "source": [
    "df_test_visualize = visualize(df_all, CountVectorizer(), LogisticRegression())\n",
    "df_test_visualize.head(20)"
   ]
  },
  {
   "cell_type": "markdown",
   "metadata": {},
   "source": [
    "# Using Keras for vectorizing (tokenizing) and classification"
   ]
  },
  {
   "cell_type": "markdown",
   "metadata": {},
   "source": [
    "### Step 2: Train-val-test split"
   ]
  },
  {
   "cell_type": "code",
   "execution_count": 82,
   "metadata": {},
   "outputs": [],
   "source": [
    "df = df_all\n",
    "\n",
    "sentences = df['sentence'].values\n",
    "labels = df['sentiment'].values"
   ]
  },
  {
   "cell_type": "code",
   "execution_count": 83,
   "metadata": {},
   "outputs": [],
   "source": [
    "sentences_train1, sentences_test, y_train1, y_test = train_test_split(sentences, labels, test_size=0.25)\n",
    "sentences_train, sentences_val, y_train, y_val = train_test_split(sentences_train1, y_train1, test_size=0.25)"
   ]
  },
  {
   "cell_type": "markdown",
   "metadata": {},
   "source": [
    "### Step 3: Tokenizing and padding"
   ]
  },
  {
   "cell_type": "code",
   "execution_count": 84,
   "metadata": {},
   "outputs": [],
   "source": [
    "tokenizer = Tokenizer(num_words=50000)\n",
    "tokenizer.fit_on_texts(sentences_train)"
   ]
  },
  {
   "cell_type": "code",
   "execution_count": 85,
   "metadata": {},
   "outputs": [],
   "source": [
    "X_train = tokenizer.texts_to_sequences(sentences_train)\n",
    "X_val = tokenizer.texts_to_sequences(sentences_val)\n",
    "X_test = tokenizer.texts_to_sequences(sentences_test)"
   ]
  },
  {
   "cell_type": "code",
   "execution_count": 86,
   "metadata": {},
   "outputs": [
    {
     "name": "stdout",
     "output_type": "stream",
     "text": [
      "Original sentence:  This movie suffered because of the writing, it needed more suspense.  \n",
      "Tokenized vector: \n",
      "[6, 24, 1488, 90, 9, 1, 253, 8, 557, 71, 310]\n",
      "Decoded output:  ['this movie suffered because of the writing it needed more suspense']\n"
     ]
    }
   ],
   "source": [
    "print(\"Original sentence: \", sentences_train[0])\n",
    "print(\"Tokenized vector: \")\n",
    "print(X_train[0])\n",
    "print(\"Decoded output: \", tokenizer.sequences_to_texts([X_train[0]]))"
   ]
  },
  {
   "cell_type": "code",
   "execution_count": 87,
   "metadata": {},
   "outputs": [
    {
     "name": "stdout",
     "output_type": "stream",
     "text": [
      "Original sentence:  I advise EVERYONE DO NOT BE FOOLED!\n",
      "Tokenized vector: \n",
      "[3, 1022, 528, 76, 13, 31]\n",
      "Decoded output:  ['i advise everyone do not be']\n"
     ]
    }
   ],
   "source": [
    "print(\"Original sentence: \", sentences_val[0])\n",
    "print(\"Tokenized vector: \")\n",
    "print(X_val[0])\n",
    "print(\"Decoded output: \", tokenizer.sequences_to_texts([X_val[0]]))"
   ]
  },
  {
   "cell_type": "code",
   "execution_count": 88,
   "metadata": {},
   "outputs": [],
   "source": [
    "vocab_size = len(tokenizer.word_index) + 1  # Adding 1 because of reserved 0 index"
   ]
  },
  {
   "cell_type": "code",
   "execution_count": 89,
   "metadata": {},
   "outputs": [],
   "source": [
    "maxlen = 100\n",
    "\n",
    "X_train = pad_sequences(X_train, padding='post', maxlen=maxlen)\n",
    "X_val = pad_sequences(X_val, padding='post', maxlen=maxlen)\n",
    "X_test = pad_sequences(X_test, padding='post', maxlen=maxlen)\n"
   ]
  },
  {
   "cell_type": "code",
   "execution_count": 90,
   "metadata": {},
   "outputs": [
    {
     "data": {
      "text/plain": [
       "(1543, 100)"
      ]
     },
     "execution_count": 90,
     "metadata": {},
     "output_type": "execute_result"
    }
   ],
   "source": [
    "X_train.shape"
   ]
  },
  {
   "cell_type": "markdown",
   "metadata": {},
   "source": [
    "### Step 4: Build the model"
   ]
  },
  {
   "cell_type": "markdown",
   "metadata": {},
   "source": [
    "#### Using a dense layer without an RNN"
   ]
  },
  {
   "cell_type": "code",
   "execution_count": 91,
   "metadata": {},
   "outputs": [],
   "source": [
    "def build_model0():\n",
    "    embedding_dim = 500\n",
    "    \n",
    "    inp = keras.Input(shape=(maxlen))\n",
    "    \n",
    "    x = layers.Embedding(input_dim=vocab_size, output_dim=embedding_dim, input_length=maxlen)(inp)\n",
    "    x = layers.Flatten()(x)\n",
    "    x = layers.Dense(10, activation='relu')(x)\n",
    "    out = keras.layers.Dense(1, activation='sigmoid')(x)\n",
    "    \n",
    "    model = keras.Model(inputs=inp, outputs=out)\n",
    "    model.compile(\n",
    "        loss=keras.losses.BinaryCrossentropy(),\n",
    "        optimizer=keras.optimizers.Adam(1e-4),\n",
    "        metrics=['accuracy'],\n",
    "    )\n",
    "    \n",
    "    return model"
   ]
  },
  {
   "cell_type": "code",
   "execution_count": 95,
   "metadata": {},
   "outputs": [
    {
     "name": "stdout",
     "output_type": "stream",
     "text": [
      "Model: \"model_1\"\n",
      "_________________________________________________________________\n",
      "Layer (type)                 Output Shape              Param #   \n",
      "=================================================================\n",
      "input_2 (InputLayer)         [(None, 100)]             0         \n",
      "_________________________________________________________________\n",
      "embedding_1 (Embedding)      (None, 100, 500)          1927000   \n",
      "_________________________________________________________________\n",
      "flatten_1 (Flatten)          (None, 50000)             0         \n",
      "_________________________________________________________________\n",
      "dense_2 (Dense)              (None, 10)                500010    \n",
      "_________________________________________________________________\n",
      "dense_3 (Dense)              (None, 1)                 11        \n",
      "=================================================================\n",
      "Total params: 2,427,021\n",
      "Trainable params: 2,427,021\n",
      "Non-trainable params: 0\n",
      "_________________________________________________________________\n"
     ]
    }
   ],
   "source": [
    "model = build_model0()\n",
    "model.summary()"
   ]
  },
  {
   "cell_type": "code",
   "execution_count": 96,
   "metadata": {},
   "outputs": [],
   "source": [
    "history = model.fit(X_train, y_train,\n",
    "                    validation_data = (X_val, y_val),\n",
    "                    epochs = 60,\n",
    "                    verbose = 0,\n",
    "                   )"
   ]
  },
  {
   "cell_type": "code",
   "execution_count": 97,
   "metadata": {},
   "outputs": [
    {
     "data": {
      "image/png": "[encoded data removed]",
      "text/plain": [
       "<Figure size 864x432 with 2 Axes>"
      ]
     },
     "metadata": {
      "needs_background": "light"
     },
     "output_type": "display_data"
    }
   ],
   "source": [
    "fig = plt.figure(figsize=(12, 6))\n",
    "\n",
    "plt.subplot(121)\n",
    "plt.plot(history.history['accuracy'], lw=3, label='Training')\n",
    "plt.plot(history.history['val_accuracy'], 'r', lw = 3, label='Val')\n",
    "plt.legend()\n",
    "plt.ylabel('Accuracy')\n",
    "_ = plt.xlabel('Epochs')\n",
    "\n",
    "plt.subplot(122)\n",
    "plt.plot(history.history['loss'], lw=3, label='Training')\n",
    "plt.plot(history.history['val_loss'], 'r', lw = 3, label='Val')\n",
    "plt.legend()\n",
    "plt.ylabel('Loss')\n",
    "_ = plt.xlabel('Epochs')"
   ]
  },
  {
   "cell_type": "code",
   "execution_count": 98,
   "metadata": {},
   "outputs": [
    {
     "name": "stdout",
     "output_type": "stream",
     "text": [
      "22/22 [==============================] - 0s 2ms/step - loss: 0.5575 - accuracy: 0.7758\n"
     ]
    },
    {
     "data": {
      "text/plain": [
       "[0.5574514269828796, 0.7758369445800781]"
      ]
     },
     "execution_count": 98,
     "metadata": {},
     "output_type": "execute_result"
    }
   ],
   "source": [
    "model.evaluate(X_test, y_test)"
   ]
  },
  {
   "cell_type": "markdown",
   "metadata": {},
   "source": [
    "#### Using a single bidirectional LSTM layer"
   ]
  },
  {
   "cell_type": "code",
   "execution_count": 99,
   "metadata": {},
   "outputs": [],
   "source": [
    "def build_model1():\n",
    "    embedding_dim = 500\n",
    "    \n",
    "    inp = keras.Input(shape=(maxlen))\n",
    "    \n",
    "    x = layers.Embedding(input_dim=vocab_size, output_dim=embedding_dim, input_length=maxlen)(inp)\n",
    "    x = layers.Bidirectional(layers.LSTM(64))(x)\n",
    "    x = layers.Dense(64, activation='relu')(x)\n",
    "    out = keras.layers.Dense(1, activation='sigmoid')(x)\n",
    "    \n",
    "    model = keras.Model(inputs=inp, outputs=out)\n",
    "    model.compile(\n",
    "        loss=keras.losses.BinaryCrossentropy(),\n",
    "        optimizer=keras.optimizers.Adam(1e-4),\n",
    "        metrics=['accuracy'],\n",
    "    )\n",
    "    \n",
    "    return model"
   ]
  },
  {
   "cell_type": "code",
   "execution_count": 100,
   "metadata": {},
   "outputs": [
    {
     "name": "stdout",
     "output_type": "stream",
     "text": [
      "Model: \"model_2\"\n",
      "_________________________________________________________________\n",
      "Layer (type)                 Output Shape              Param #   \n",
      "=================================================================\n",
      "input_3 (InputLayer)         [(None, 100)]             0         \n",
      "_________________________________________________________________\n",
      "embedding_2 (Embedding)      (None, 100, 500)          1927000   \n",
      "_________________________________________________________________\n",
      "bidirectional (Bidirectional (None, 128)               289280    \n",
      "_________________________________________________________________\n",
      "dense_4 (Dense)              (None, 64)                8256      \n",
      "_________________________________________________________________\n",
      "dense_5 (Dense)              (None, 1)                 65        \n",
      "=================================================================\n",
      "Total params: 2,224,601\n",
      "Trainable params: 2,224,601\n",
      "Non-trainable params: 0\n",
      "_________________________________________________________________\n"
     ]
    }
   ],
   "source": [
    "model = build_model1()\n",
    "model.summary()"
   ]
  },
  {
   "cell_type": "code",
   "execution_count": 101,
   "metadata": {},
   "outputs": [],
   "source": [
    "history = model.fit(X_train, y_train,\n",
    "                    validation_data = (X_val, y_val),\n",
    "                    epochs = 60,\n",
    "                    verbose = 0,\n",
    "                   )"
   ]
  },
  {
   "cell_type": "code",
   "execution_count": 102,
   "metadata": {},
   "outputs": [
    {
     "data": {
      "image/png": "[encoded data removed]",
      "text/plain": [
       "<Figure size 864x432 with 2 Axes>"
      ]
     },
     "metadata": {
      "needs_background": "light"
     },
     "output_type": "display_data"
    }
   ],
   "source": [
    "fig = plt.figure(figsize=(12, 6))\n",
    "\n",
    "plt.subplot(121)\n",
    "plt.plot(history.history['accuracy'], lw=3, label='Training')\n",
    "plt.plot(history.history['val_accuracy'], 'r', lw = 3, label='Val')\n",
    "plt.legend()\n",
    "plt.ylabel('Accuracy')\n",
    "_ = plt.xlabel('Epochs')\n",
    "\n",
    "plt.subplot(122)\n",
    "plt.plot(history.history['loss'], lw=3, label='Training')\n",
    "plt.plot(history.history['val_loss'], 'r', lw = 3, label='Val')\n",
    "plt.legend()\n",
    "plt.ylabel('Loss')\n",
    "_ = plt.xlabel('Epochs')"
   ]
  },
  {
   "cell_type": "code",
   "execution_count": 103,
   "metadata": {},
   "outputs": [
    {
     "name": "stdout",
     "output_type": "stream",
     "text": [
      "22/22 [==============================] - 0s 5ms/step - loss: 1.5450 - accuracy: 0.7584\n"
     ]
    },
    {
     "data": {
      "text/plain": [
       "[1.5449841022491455, 0.7583697438240051]"
      ]
     },
     "execution_count": 103,
     "metadata": {},
     "output_type": "execute_result"
    }
   ],
   "source": [
    "model.evaluate(X_test, y_test)"
   ]
  },
  {
   "cell_type": "code",
   "execution_count": 104,
   "metadata": {},
   "outputs": [],
   "source": [
    "y_pred = model.predict(X_test)"
   ]
  },
  {
   "cell_type": "code",
   "execution_count": 105,
   "metadata": {},
   "outputs": [
    {
     "name": "stdout",
     "output_type": "stream",
     "text": [
      "Original sentence:  This results in the phone being either stuck at max volume or mute.\n",
      "Decoded sentence:  ['this results in the phone being either at volume or']\n",
      "Tokenized vector: \n",
      "[   6 1559   11    1   26  142  359   30  270   54    0    0    0    0\n",
      "    0    0    0    0    0    0    0    0    0    0    0    0    0    0\n",
      "    0    0    0    0    0    0    0    0    0    0    0    0    0    0\n",
      "    0    0    0    0    0    0    0    0    0    0    0    0    0    0\n",
      "    0    0    0    0    0    0    0    0    0    0    0    0    0    0\n",
      "    0    0    0    0    0    0    0    0    0    0    0    0    0    0\n",
      "    0    0    0    0    0    0    0    0    0    0    0    0    0    0\n",
      "    0    0]\n",
      "Predicted output:  [1.0374114e-06]\n",
      "True output:  0\n"
     ]
    }
   ],
   "source": [
    "print(\"Original sentence: \", sentences_test[0])\n",
    "print(\"Decoded sentence: \", tokenizer.sequences_to_texts([X_test[0]]))\n",
    "print(\"Tokenized vector: \")\n",
    "print(X_test[0])\n",
    "print(\"Predicted output: \", y_pred[0])\n",
    "print(\"True output: \", y_test[0])"
   ]
  },
  {
   "cell_type": "markdown",
   "metadata": {},
   "source": [
    "#### Using two bidirectional LSTM layers"
   ]
  },
  {
   "cell_type": "code",
   "execution_count": 113,
   "metadata": {},
   "outputs": [],
   "source": [
    "def build_model2():\n",
    "    embedding_dim = 500\n",
    "    \n",
    "    inp = keras.Input(shape=(maxlen))\n",
    "    \n",
    "    x = layers.Embedding(input_dim=vocab_size, output_dim=embedding_dim, input_length=maxlen)(inp)\n",
    "    x = layers.Bidirectional(layers.LSTM(64,  return_sequences=True))(x)\n",
    "    x = layers.Bidirectional(layers.LSTM(32))(x)\n",
    "    x = layers.Dense(64, activation='relu')(x)\n",
    "    x = layers.Dropout(0.5)(x)\n",
    "    out = keras.layers.Dense(1, activation='sigmoid')(x)\n",
    "    \n",
    "    model = keras.Model(inputs=inp, outputs=out)\n",
    "    model.compile(\n",
    "        loss=keras.losses.BinaryCrossentropy(),\n",
    "        optimizer=keras.optimizers.Adam(1e-4),\n",
    "        metrics=['accuracy'],\n",
    "    )\n",
    "    \n",
    "    return model"
   ]
  },
  {
   "cell_type": "code",
   "execution_count": 114,
   "metadata": {},
   "outputs": [
    {
     "name": "stdout",
     "output_type": "stream",
     "text": [
      "Model: \"model_8\"\n",
      "_________________________________________________________________\n",
      "Layer (type)                 Output Shape              Param #   \n",
      "=================================================================\n",
      "input_9 (InputLayer)         [(None, 100)]             0         \n",
      "_________________________________________________________________\n",
      "embedding_8 (Embedding)      (None, 100, 500)          672500    \n",
      "_________________________________________________________________\n",
      "bidirectional_4 (Bidirection (None, 100, 128)          289280    \n",
      "_________________________________________________________________\n",
      "bidirectional_5 (Bidirection (None, 64)                41216     \n",
      "_________________________________________________________________\n",
      "dense_16 (Dense)             (None, 64)                4160      \n",
      "_________________________________________________________________\n",
      "dropout_1 (Dropout)          (None, 64)                0         \n",
      "_________________________________________________________________\n",
      "dense_17 (Dense)             (None, 1)                 65        \n",
      "=================================================================\n",
      "Total params: 1,007,221\n",
      "Trainable params: 1,007,221\n",
      "Non-trainable params: 0\n",
      "_________________________________________________________________\n"
     ]
    }
   ],
   "source": [
    "model = build_model2()\n",
    "model.summary()"
   ]
  },
  {
   "cell_type": "code",
   "execution_count": 115,
   "metadata": {},
   "outputs": [],
   "source": [
    "history = model.fit(X_train, y_train,\n",
    "                    validation_data = (X_val, y_val),\n",
    "                    epochs = 30,\n",
    "                    verbose = 0,\n",
    "                   )"
   ]
  },
  {
   "cell_type": "code",
   "execution_count": 116,
   "metadata": {},
   "outputs": [
    {
     "data": {
      "image/png": "[encoded data removed]",
      "text/plain": [
       "<Figure size 864x432 with 2 Axes>"
      ]
     },
     "metadata": {
      "needs_background": "light"
     },
     "output_type": "display_data"
    }
   ],
   "source": [
    "fig = plt.figure(figsize=(12, 6))\n",
    "\n",
    "plt.subplot(121)\n",
    "plt.plot(history.history['accuracy'], lw=3, label='Training')\n",
    "plt.plot(history.history['val_accuracy'], 'r', lw = 3, label='Val')\n",
    "plt.legend()\n",
    "plt.ylabel('Accuracy')\n",
    "_ = plt.xlabel('Epochs')\n",
    "\n",
    "plt.subplot(122)\n",
    "plt.plot(history.history['loss'], lw=3, label='Training')\n",
    "plt.plot(history.history['val_loss'], 'r', lw = 3, label='Val')\n",
    "plt.legend()\n",
    "plt.ylabel('Loss')\n",
    "_ = plt.xlabel('Epochs')"
   ]
  },
  {
   "cell_type": "code",
   "execution_count": 117,
   "metadata": {},
   "outputs": [
    {
     "name": "stdout",
     "output_type": "stream",
     "text": [
      "8/8 [==============================] - 0s 7ms/step - loss: 1.2393 - accuracy: 0.7560\n"
     ]
    },
    {
     "data": {
      "text/plain": [
       "[1.2392956018447876, 0.7559999823570251]"
      ]
     },
     "execution_count": 117,
     "metadata": {},
     "output_type": "execute_result"
    }
   ],
   "source": [
    "model.evaluate(X_test, y_test)"
   ]
  },
  {
   "cell_type": "markdown",
   "metadata": {},
   "source": [
    "### Step 5: Use pretrained embeddings from GloVe \n",
    "\n",
    "(from Deep Learning with Python by Francois Chollet)"
   ]
  },
  {
   "cell_type": "code",
   "execution_count": 13,
   "metadata": {},
   "outputs": [],
   "source": [
    "word_index = tokenizer.word_index"
   ]
  },
  {
   "cell_type": "code",
   "execution_count": 14,
   "metadata": {},
   "outputs": [],
   "source": [
    "glove_dir = 'glove.6B'\n",
    "\n",
    "embeddings_index = {}\n",
    "f = open(os.path.join(glove_dir, 'glove.6B.100d.txt'))\n",
    "for line in f:\n",
    "    values = line.split()\n",
    "    word = values[0]\n",
    "    coefs = np.asarray(values[1:], dtype='float32')\n",
    "    embeddings_index[word] = coefs\n",
    "f.close()"
   ]
  },
  {
   "cell_type": "code",
   "execution_count": 17,
   "metadata": {},
   "outputs": [],
   "source": [
    "embedding_dim = 100\n",
    "max_words = 10000\n",
    "\n",
    "embedding_matrix = np.zeros((max_words, embedding_dim))\n",
    "for word, i in word_index.items():\n",
    "    if i < max_words:\n",
    "        embedding_vector = embeddings_index.get(word)\n",
    "        if embedding_vector is not None:\n",
    "            embedding_matrix[i] = embedding_vector"
   ]
  },
  {
   "cell_type": "markdown",
   "metadata": {},
   "source": [
    "#### Using a dense layer with no RNN"
   ]
  },
  {
   "cell_type": "code",
   "execution_count": 24,
   "metadata": {},
   "outputs": [],
   "source": [
    "def build_model3():\n",
    "\n",
    "    inp = keras.Input(shape=(maxlen))\n",
    "    \n",
    "    x = layers.Embedding(input_dim=max_words, output_dim=embedding_dim, input_length=maxlen)(inp)\n",
    "    x = layers.Flatten()(x)\n",
    "    x = layers.Dense(32, activation='relu')(x)\n",
    "    out = layers.Dense(1, activation='sigmoid')(x)\n",
    "    \n",
    "    model = keras.Model(inputs=inp, outputs=out)\n",
    "    \n",
    "    model.layers[1].set_weights([embedding_matrix])\n",
    "    model.layers[1].trainable = False\n",
    "    \n",
    "    model.compile(\n",
    "        loss=keras.losses.BinaryCrossentropy(),\n",
    "        optimizer=keras.optimizers.Adam(1e-4),\n",
    "        metrics=['accuracy'],\n",
    "    )\n",
    "    \n",
    "    return model"
   ]
  },
  {
   "cell_type": "code",
   "execution_count": 25,
   "metadata": {},
   "outputs": [
    {
     "name": "stdout",
     "output_type": "stream",
     "text": [
      "Model: \"model_2\"\n",
      "_________________________________________________________________\n",
      "Layer (type)                 Output Shape              Param #   \n",
      "=================================================================\n",
      "input_4 (InputLayer)         [(None, 100)]             0         \n",
      "_________________________________________________________________\n",
      "embedding_3 (Embedding)      (None, 100, 100)          1000000   \n",
      "_________________________________________________________________\n",
      "flatten_3 (Flatten)          (None, 10000)             0         \n",
      "_________________________________________________________________\n",
      "dense_6 (Dense)              (None, 32)                320032    \n",
      "_________________________________________________________________\n",
      "dense_7 (Dense)              (None, 1)                 33        \n",
      "=================================================================\n",
      "Total params: 1,320,065\n",
      "Trainable params: 320,065\n",
      "Non-trainable params: 1,000,000\n",
      "_________________________________________________________________\n"
     ]
    }
   ],
   "source": [
    "model = build_model3()\n",
    "model.summary()"
   ]
  },
  {
   "cell_type": "code",
   "execution_count": 26,
   "metadata": {},
   "outputs": [],
   "source": [
    "history = model.fit(X_train, y_train,\n",
    "                    validation_data = (X_val, y_val),\n",
    "                    epochs = 30,\n",
    "                    verbose = 0,\n",
    "                   )"
   ]
  },
  {
   "cell_type": "code",
   "execution_count": 27,
   "metadata": {},
   "outputs": [
    {
     "data": {
      "image/png": "[encoded data removed]",
      "text/plain": [
       "<Figure size 864x432 with 2 Axes>"
      ]
     },
     "metadata": {
      "needs_background": "light"
     },
     "output_type": "display_data"
    }
   ],
   "source": [
    "fig = plt.figure(figsize=(12, 6))\n",
    "\n",
    "plt.subplot(121)\n",
    "plt.plot(history.history['accuracy'], lw=3, label='Training')\n",
    "plt.plot(history.history['val_accuracy'], 'r', lw = 3, label='Val')\n",
    "plt.legend()\n",
    "plt.ylabel('Accuracy')\n",
    "_ = plt.xlabel('Epochs')\n",
    "\n",
    "plt.subplot(122)\n",
    "plt.plot(history.history['loss'], lw=3, label='Training')\n",
    "plt.plot(history.history['val_loss'], 'r', lw = 3, label='Val')\n",
    "plt.legend()\n",
    "plt.ylabel('Loss')\n",
    "_ = plt.xlabel('Epochs')"
   ]
  },
  {
   "cell_type": "code",
   "execution_count": 28,
   "metadata": {},
   "outputs": [
    {
     "name": "stdout",
     "output_type": "stream",
     "text": [
      "8/8 [==============================] - 0s 1ms/step - loss: 0.6365 - accuracy: 0.6600\n"
     ]
    },
    {
     "data": {
      "text/plain": [
       "[0.6364844441413879, 0.6600000262260437]"
      ]
     },
     "execution_count": 28,
     "metadata": {},
     "output_type": "execute_result"
    }
   ],
   "source": [
    "model.evaluate(X_test, y_test)"
   ]
  },
  {
   "cell_type": "markdown",
   "metadata": {},
   "source": [
    "#### Using a single bidirectional LSTM layer"
   ]
  },
  {
   "cell_type": "code",
   "execution_count": 29,
   "metadata": {},
   "outputs": [],
   "source": [
    "def build_model4():\n",
    "    \n",
    "    inp = keras.Input(shape=(maxlen))\n",
    "\n",
    "    x = layers.Embedding(input_dim=max_words, output_dim=embedding_dim, input_length=maxlen)(inp)\n",
    "    x = layers.Bidirectional(layers.LSTM(64))(x)\n",
    "    x = layers.Dense(64, activation='relu')(x)\n",
    "    out = keras.layers.Dense(1, activation='sigmoid')(x)\n",
    "    \n",
    "    model = keras.Model(inputs=inp, outputs=out)\n",
    "    \n",
    "    model.layers[1].set_weights([embedding_matrix])\n",
    "    model.layers[1].trainable = False\n",
    "    \n",
    "    model.compile(\n",
    "        loss=keras.losses.BinaryCrossentropy(),\n",
    "        optimizer=keras.optimizers.Adam(1e-4),\n",
    "        metrics=['accuracy'],\n",
    "    )\n",
    "    \n",
    "    return model"
   ]
  },
  {
   "cell_type": "code",
   "execution_count": 30,
   "metadata": {},
   "outputs": [
    {
     "name": "stdout",
     "output_type": "stream",
     "text": [
      "Model: \"model_3\"\n",
      "_________________________________________________________________\n",
      "Layer (type)                 Output Shape              Param #   \n",
      "=================================================================\n",
      "input_5 (InputLayer)         [(None, 100)]             0         \n",
      "_________________________________________________________________\n",
      "embedding_4 (Embedding)      (None, 100, 100)          1000000   \n",
      "_________________________________________________________________\n",
      "bidirectional (Bidirectional (None, 128)               84480     \n",
      "_________________________________________________________________\n",
      "dense_8 (Dense)              (None, 64)                8256      \n",
      "_________________________________________________________________\n",
      "dense_9 (Dense)              (None, 1)                 65        \n",
      "=================================================================\n",
      "Total params: 1,092,801\n",
      "Trainable params: 92,801\n",
      "Non-trainable params: 1,000,000\n",
      "_________________________________________________________________\n"
     ]
    }
   ],
   "source": [
    "model = build_model4()\n",
    "model.summary()"
   ]
  },
  {
   "cell_type": "code",
   "execution_count": 31,
   "metadata": {},
   "outputs": [],
   "source": [
    "history = model.fit(X_train, y_train,\n",
    "                    validation_data = (X_val, y_val),\n",
    "                    epochs = 30,\n",
    "                    verbose = 0,\n",
    "                   )"
   ]
  },
  {
   "cell_type": "code",
   "execution_count": 32,
   "metadata": {},
   "outputs": [
    {
     "data": {
      "image/png": "[encoded data removed]",
      "text/plain": [
       "<Figure size 864x432 with 2 Axes>"
      ]
     },
     "metadata": {
      "needs_background": "light"
     },
     "output_type": "display_data"
    }
   ],
   "source": [
    "fig = plt.figure(figsize=(12, 6))\n",
    "\n",
    "plt.subplot(121)\n",
    "plt.plot(history.history['accuracy'], lw=3, label='Training')\n",
    "plt.plot(history.history['val_accuracy'], 'r', lw = 3, label='Val')\n",
    "plt.legend()\n",
    "plt.ylabel('Accuracy')\n",
    "_ = plt.xlabel('Epochs')\n",
    "\n",
    "plt.subplot(122)\n",
    "plt.plot(history.history['loss'], lw=3, label='Training')\n",
    "plt.plot(history.history['val_loss'], 'r', lw = 3, label='Val')\n",
    "plt.legend()\n",
    "plt.ylabel('Loss')\n",
    "_ = plt.xlabel('Epochs')"
   ]
  },
  {
   "cell_type": "code",
   "execution_count": 33,
   "metadata": {},
   "outputs": [
    {
     "name": "stdout",
     "output_type": "stream",
     "text": [
      "8/8 [==============================] - 0s 4ms/step - loss: 0.6697 - accuracy: 0.6840\n"
     ]
    },
    {
     "data": {
      "text/plain": [
       "[0.6697196364402771, 0.6840000152587891]"
      ]
     },
     "execution_count": 33,
     "metadata": {},
     "output_type": "execute_result"
    }
   ],
   "source": [
    "model.evaluate(X_test, y_test)"
   ]
  },
  {
   "cell_type": "code",
   "execution_count": 37,
   "metadata": {},
   "outputs": [],
   "source": [
    "y_pred = model.predict(X_test)"
   ]
  },
  {
   "cell_type": "code",
   "execution_count": 41,
   "metadata": {},
   "outputs": [
    {
     "name": "stdout",
     "output_type": "stream",
     "text": [
      "Original sentence:  At first I thought I was grtting a good deal at $7.44, until I plugged it into my phone (V3c Razr).\n",
      "Decoded sentence:  ['at first i thought i was a good deal at 7 i plugged it into my phone razr']\n",
      "Tokenized vector: \n",
      "[ 125   94    2 1125    2   23    7   22  817  125  934    2  970    4\n",
      "  301   10    9  499    0    0    0    0    0    0    0    0    0    0\n",
      "    0    0    0    0    0    0    0    0    0    0    0    0    0    0\n",
      "    0    0    0    0    0    0    0    0    0    0    0    0    0    0\n",
      "    0    0    0    0    0    0    0    0    0    0    0    0    0    0\n",
      "    0    0    0    0    0    0    0    0    0    0    0    0    0    0\n",
      "    0    0    0    0    0    0    0    0    0    0    0    0    0    0\n",
      "    0    0]\n",
      "Predicted output:  [0.44028747]\n",
      "True output:  0\n"
     ]
    }
   ],
   "source": [
    "print(\"Original sentence: \", sentences_test[0])\n",
    "print(\"Decoded sentence: \", tokenizer.sequences_to_texts([X_test[0]]))\n",
    "print(\"Tokenized vector: \")\n",
    "print(X_test[0])\n",
    "print(\"Predicted output: \", y_pred[0])\n",
    "print(\"True output: \", y_test[0])"
   ]
  },
  {
   "cell_type": "code",
   "execution_count": 44,
   "metadata": {},
   "outputs": [
    {
     "name": "stdout",
     "output_type": "stream",
     "text": [
      "Original sentence:  But it does get better reception and clarity than any phone I've had before.\n",
      "Decoded sentence:  [\"but it does get better reception and clarity than any phone i've had before\"]\n",
      "Tokenized vector: \n",
      "[ 37   4  59  84  83  88   3 862  49  77   9  42  24 251   0   0   0   0\n",
      "   0   0   0   0   0   0   0   0   0   0   0   0   0   0   0   0   0   0\n",
      "   0   0   0   0   0   0   0   0   0   0   0   0   0   0   0   0   0   0\n",
      "   0   0   0   0   0   0   0   0   0   0   0   0   0   0   0   0   0   0\n",
      "   0   0   0   0   0   0   0   0   0   0   0   0   0   0   0   0   0   0\n",
      "   0   0   0   0   0   0   0   0   0   0]\n",
      "Predicted output:  [0.21133798]\n",
      "True output:  1\n"
     ]
    }
   ],
   "source": [
    "print(\"Original sentence: \", sentences_test[1])\n",
    "print(\"Decoded sentence: \", tokenizer.sequences_to_texts([X_test[1]]))\n",
    "print(\"Tokenized vector: \")\n",
    "print(X_test[1])\n",
    "print(\"Predicted output: \", y_pred[1])\n",
    "print(\"True output: \", y_test[1])"
   ]
  },
  {
   "cell_type": "code",
   "execution_count": null,
   "metadata": {},
   "outputs": [],
   "source": []
  }
 ],
 "metadata": {
  "kernelspec": {
   "display_name": "Python 3",
   "language": "python",
   "name": "python3"
  },
  "language_info": {
   "codemirror_mode": {
    "name": "ipython",
    "version": 3
   },
   "file_extension": ".py",
   "mimetype": "text/x-python",
   "name": "python",
   "nbconvert_exporter": "python",
   "pygments_lexer": "ipython3",
   "version": "3.8.5"
  }
 },
 "nbformat": 4,
 "nbformat_minor": 4
}
